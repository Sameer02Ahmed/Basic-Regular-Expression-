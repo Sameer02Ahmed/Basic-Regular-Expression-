{
 "cells": [
  {
   "cell_type": "markdown",
   "metadata": {},
   "source": [
    "A RegEx, or Regular Expression, is a sequence of characters that forms a search pattern.\n",
    "RegEx can be used to check if a string contains the specified search pattern."
   ]
  },
  {
   "cell_type": "code",
   "execution_count": null,
   "metadata": {},
   "outputs": [],
   "source": [
    "import re"
   ]
  },
  {
   "cell_type": "code",
   "execution_count": 23,
   "metadata": {},
   "outputs": [
    {
     "name": "stdout",
     "output_type": "stream",
     "text": [
      "The string contains the character 'i'\n"
     ]
    }
   ],
   "source": [
    "#Match a single character\n",
    "pattern = r'i'\n",
    "\n",
    "if re.search(pattern, 'Aisha'):\n",
    "    print(\"The string contains the character 'i'\")\n",
    "else:\n",
    "    print(\"The string does not contain the character 'i'\")"
   ]
  },
  {
   "cell_type": "code",
   "execution_count": 4,
   "metadata": {},
   "outputs": [
    {
     "name": "stdout",
     "output_type": "stream",
     "text": [
      "The string contains any character\n"
     ]
    }
   ],
   "source": [
    "#Match any character:\n",
    "pattern = r'.' #(.) means Any character\n",
    "\n",
    "if re.search(pattern, 'abc'):\n",
    "    print(\"The string contains any character\")\n",
    "else:\n",
    "    print(\"The string does not contain any character\")"
   ]
  },
  {
   "cell_type": "code",
   "execution_count": 6,
   "metadata": {},
   "outputs": [
    {
     "name": "stdout",
     "output_type": "stream",
     "text": [
      "The string does not contain a lowercase letter\n"
     ]
    }
   ],
   "source": [
    "#Match a range of lower case characters:\n",
    "pattern = r'[a-z]' #[a-z] means range of lower case sentence\n",
    "\n",
    "if re.search(pattern, 'SAMEER'):\n",
    "    print(\"The string contains a lowercase letter\")\n",
    "else:\n",
    "    print(\"The string does not contain a lowercase letter\")"
   ]
  },
  {
   "cell_type": "code",
   "execution_count": 9,
   "metadata": {},
   "outputs": [
    {
     "name": "stdout",
     "output_type": "stream",
     "text": [
      "The string contains the sequence 'utility'\n"
     ]
    }
   ],
   "source": [
    "#Match a sequence of characters\n",
    "pattern = r'utility'\n",
    "if re.search(pattern, 'this fed utility has zero amount'):\n",
    "    print(\"The string contains the sequence 'utility'\")\n",
    "else:\n",
    "    print(\"The string does not contain the sequence 'utility'\")"
   ]
  },
  {
   "cell_type": "code",
   "execution_count": 10,
   "metadata": {},
   "outputs": [
    {
     "name": "stdout",
     "output_type": "stream",
     "text": [
      "The string does not start with 'Hello'\n"
     ]
    }
   ],
   "source": [
    "#Match a string at the beginning of the line:\n",
    "pattern = r'^hello' #(^) means start with beginning\n",
    "if re.search(pattern, 'Hello World'):\n",
    "    print(\"The string starts with 'Hello'\")\n",
    "else:\n",
    "    print(\"The string does not start with 'Hello'\")"
   ]
  },
  {
   "cell_type": "code",
   "execution_count": 11,
   "metadata": {},
   "outputs": [
    {
     "name": "stdout",
     "output_type": "stream",
     "text": [
      "The string ends with 'World'\n"
     ]
    }
   ],
   "source": [
    "#Match a string at the end of the line\n",
    "pattern = r'World$' #($) means end line of character\n",
    "if re.search(pattern, 'Hello World'):\n",
    "    print(\"The string ends with 'World'\")\n",
    "else:\n",
    "    print(\"The string does not end with 'World'\")"
   ]
  },
  {
   "cell_type": "code",
   "execution_count": 12,
   "metadata": {},
   "outputs": [
    {
     "name": "stdout",
     "output_type": "stream",
     "text": [
      "The string contains the word 'word'\n"
     ]
    }
   ],
   "source": [
    "#Match a string that contains a word\n",
    "pattern = r'\\bword\\b' #(\\b means) means used to match any specified character\n",
    "if re.search(pattern, 'This is a word'):\n",
    "    print(\"The string contains the word 'word'\")\n",
    "else:\n",
    "    print(\"The string does not contain the word 'word'\")"
   ]
  },
  {
   "cell_type": "code",
   "execution_count": 13,
   "metadata": {},
   "outputs": [
    {
     "name": "stdout",
     "output_type": "stream",
     "text": [
      "The string contains a number\n"
     ]
    }
   ],
   "source": [
    "#Match a string that contains a number\n",
    "pattern = r'\\d+' #(\\d+) means one or more occurances in digit\n",
    "if re.search(pattern, '12345'):\n",
    "    print(\"The string contains a number\")\n",
    "else:\n",
    "    print(\"The string does not contain a number\")"
   ]
  },
  {
   "cell_type": "code",
   "execution_count": 15,
   "metadata": {},
   "outputs": [
    {
     "name": "stdout",
     "output_type": "stream",
     "text": [
      "The string contains an email address\n"
     ]
    }
   ],
   "source": [
    "#Match a string that contains an email address:  \n",
    "pattern = r'\\w+@\\w+\\.\\w+' \n",
    "#w  means range of lower, capital and numeric values, w+ means one more occurances in (w)\n",
    "#\\ single sequence and . means any character\n",
    "if re.search(pattern, 'johndoe@gmail.com'):\n",
    "    print(\"The string contains an email address\")\n",
    "else:\n",
    "    print(\"The string does not contain an email address\")"
   ]
  },
  {
   "cell_type": "code",
   "execution_count": 18,
   "metadata": {},
   "outputs": [
    {
     "name": "stdout",
     "output_type": "stream",
     "text": [
      "The string contains a URL\n"
     ]
    }
   ],
   "source": [
    "#Match a string that contains a URL:   \n",
    "pattern = r'https://\\w+\\.\\w+'\n",
    "if re.search(pattern, 'https://www.google.com'):\n",
    "    print(\"The string contains a URL\")\n",
    "else:\n",
    "    print(\"The string does not contain a URL\")"
   ]
  },
  {
   "cell_type": "code",
   "execution_count": 22,
   "metadata": {},
   "outputs": [
    {
     "name": "stdout",
     "output_type": "stream",
     "text": [
      "['ai', 'ai']\n"
     ]
    }
   ],
   "source": [
    "txt = \"The rain in Spain\"\n",
    "x = re.findall(\"ai\", txt)\n",
    "print(x)"
   ]
  }
 ],
 "metadata": {
  "kernelspec": {
   "display_name": "Python 2",
   "language": "python",
   "name": "python2"
  },
  "language_info": {
   "codemirror_mode": {
    "name": "ipython",
    "version": 2
   },
   "file_extension": ".py",
   "mimetype": "text/x-python",
   "name": "python",
   "nbconvert_exporter": "python",
   "pygments_lexer": "ipython2",
   "version": "2.7.15"
  }
 },
 "nbformat": 4,
 "nbformat_minor": 2
}
